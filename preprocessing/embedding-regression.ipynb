{
 "cells": [
  {
   "cell_type": "code",
   "execution_count": 1,
   "metadata": {},
   "outputs": [],
   "source": [
    "import torch\n",
    "from torch import nn, optim\n",
    "from torch.nn.utils.rnn import pad_sequence\n",
    "from torch.utils.data import DataLoader, Dataset, TensorDataset\n",
    "import torchmetrics\n",
    "\n",
    "import pandas as pd\n",
    "from tqdm.notebook import trange, tqdm\n",
    "import numpy as np\n",
    "import matplotlib.pyplot as plt\n",
    "from sklearn.model_selection import ParameterGrid\n",
    "from sklearn.model_selection import train_test_split\n",
    "import gensim.downloader\n",
    "from sklearn.linear_model import LinearRegression\n",
    "import swifter\n",
    "\n",
    "device = 'cpu'"
   ]
  },
  {
   "cell_type": "code",
   "execution_count": 2,
   "metadata": {},
   "outputs": [],
   "source": [
    "df = pd.read_json('gutenberg-dataset-v2.json')\n",
    "# df = pd.read_json('dataset.json')\n",
    "embedding_vectors = gensim.downloader.load('glove-twitter-25')\n",
    "\n",
    "embedding_dim = len(embedding_vectors['test'])\n"
   ]
  },
  {
   "cell_type": "code",
   "execution_count": 2,
   "metadata": {},
   "outputs": [],
   "source": [
    "chunk_size = 2000\n",
    "input_size = 25 * chunk_size"
   ]
  },
  {
   "cell_type": "code",
   "execution_count": 3,
   "metadata": {},
   "outputs": [],
   "source": [
    "df = df.sample(frac=0.3)"
   ]
  },
  {
   "cell_type": "code",
   "execution_count": 4,
   "metadata": {},
   "outputs": [],
   "source": [
    "df = (df.drop('title', axis=1).drop('author', axis=1).drop('text_ratio', axis=1).drop('weights', axis=1).drop('text_len_characters', axis=1))\n"
   ]
  },
  {
   "cell_type": "code",
   "execution_count": 5,
   "metadata": {},
   "outputs": [
    {
     "data": {
      "application/vnd.jupyter.widget-view+json": {
       "model_id": "0df714c16a5a4701a04d73e055b017e9",
       "version_major": 2,
       "version_minor": 0
      },
      "text/plain": [
       "  0%|          | 0/36049 [00:00<?, ?it/s]"
      ]
     },
     "metadata": {},
     "output_type": "display_data"
    }
   ],
   "source": [
    "tqdm.pandas()\n",
    "\n",
    "def embed_texts(text):\n",
    "    words = text.split()\n",
    "    if len(words) != chunk_size:\n",
    "        print(\"error wrong word count\")\n",
    "    embeddings = []\n",
    "\n",
    "    for word in words: \n",
    "        if word not in embedding_vectors:\n",
    "            embeddings.append(np.zeros(embedding_dim))\n",
    "        else:\n",
    "            e = embedding_vectors[word]\n",
    "            assert(len(e) == embedding_dim)\n",
    "            embeddings.append(embedding_vectors[word])\n",
    "\n",
    "    return np.concatenate(embeddings)\n",
    "\n",
    "        \n",
    "\n",
    "df['text'] = df['text'].progress_apply(embed_texts)\n",
    "# df['text_embed'] = df['text'].progress_apply(lambda text: np.array([embedding_vectors[word] if word in embedding_vectors else embedding_vectors['none'] for word in text.split() if word in embedding_vectors]).flatten())\n"
   ]
  },
  {
   "cell_type": "code",
   "execution_count": 6,
   "metadata": {},
   "outputs": [],
   "source": [
    "X_all = np.concatenate(df['text'].values).reshape((len(df), 25*2000))\n"
   ]
  },
  {
   "cell_type": "code",
   "execution_count": 7,
   "metadata": {},
   "outputs": [],
   "source": [
    "df['date'] = (df['date']-df['date'].min())/(df['date'].max()-df['date'].min())\n",
    "\n",
    "df\n",
    "y_all = df['date'].values"
   ]
  },
  {
   "cell_type": "code",
   "execution_count": 17,
   "metadata": {},
   "outputs": [],
   "source": [
    "np.save('X_all', X_all)\n",
    "np.save('y_all', y_all)"
   ]
  },
  {
   "cell_type": "code",
   "execution_count": 3,
   "metadata": {},
   "outputs": [],
   "source": [
    "X_all = np.load('X_all.npy')\n",
    "y_all = np.load('y_all.npy')\n",
    "\n",
    "X_train, X_test, y_train, y_test = train_test_split(X_all, y_all, test_size=0.2, random_state=42, shuffle=True)"
   ]
  },
  {
   "cell_type": "code",
   "execution_count": 9,
   "metadata": {},
   "outputs": [],
   "source": [
    "#train_dataloader = DataLoader((torch.from_numpy(X_train), torch.from_numpy(y_train)), batch_size=16)\n",
    "#test_dataloader = DataLoader((torch.from_numpy(X_test), torch.from_numpy(y_test)), batch_size=16)"
   ]
  },
  {
   "cell_type": "code",
   "execution_count": 4,
   "metadata": {},
   "outputs": [],
   "source": [
    "# Define the linear regression model\n",
    "\n",
    "\n",
    "\n",
    "class LinearRegressionModel(nn.Module):\n",
    "    def __init__(self, input_size):\n",
    "        super(LinearRegressionModel, self).__init__()\n",
    "        self.linear = nn.Linear(input_size, 10000)\n",
    "        self.activation = nn.ReLU()\n",
    "        self.linear2 = nn.Linear(10000, 10000)\n",
    "        self.activation2 = nn.ReLU()\n",
    "        self.linear3 = nn.Linear(10000, 1000)\n",
    "        self.activation3 = nn.ReLU()\n",
    "        self.linear4 = nn.Linear(1000, 100)\n",
    "        self.activation4 = nn.ReLU()\n",
    "        self.linear5 = nn.Linear(100, 1)\n",
    "        self.activation5 = nn.Sigmoid()\n",
    "        \n",
    "\n",
    "    def forward(self, x):\n",
    "        x = self.linear(x)\n",
    "        x = self.activation(x)\n",
    "        x = self.linear2(x)\n",
    "        x = self.activation2(x)\n",
    "        x = self.linear3(x)\n",
    "        x = self.activation3(x)\n",
    "        x = self.linear4(x)\n",
    "        x = self.activation4(x)\n",
    "        x = self.linear5(x)\n",
    "        x = self.activation5(x)\n",
    "\n",
    "        return x"
   ]
  },
  {
   "cell_type": "code",
   "execution_count": 11,
   "metadata": {},
   "outputs": [
    {
     "data": {
      "text/plain": [
       "False"
      ]
     },
     "execution_count": 11,
     "metadata": {},
     "output_type": "execute_result"
    }
   ],
   "source": [
    "df.isnull().values.any()\n"
   ]
  },
  {
   "cell_type": "code",
   "execution_count": 5,
   "metadata": {},
   "outputs": [
    {
     "data": {
      "application/vnd.jupyter.widget-view+json": {
       "model_id": "fec5809ca4674ac5833c0c1ce194fea4",
       "version_major": 2,
       "version_minor": 0
      },
      "text/plain": [
       "  0%|          | 0/2 [00:00<?, ?it/s]"
      ]
     },
     "metadata": {},
     "output_type": "display_data"
    },
    {
     "data": {
      "application/vnd.jupyter.widget-view+json": {
       "model_id": "ea39b7cf6b0f4b4bbfc588a2b4b4ebd8",
       "version_major": 2,
       "version_minor": 0
      },
      "text/plain": [
       "  0%|          | 0/1 [00:00<?, ?it/s]"
      ]
     },
     "metadata": {},
     "output_type": "display_data"
    },
    {
     "name": "stdout",
     "output_type": "stream",
     "text": [
      "00% done\n",
      "Loss: 0.6910541653633118\n"
     ]
    },
    {
     "data": {
      "application/vnd.jupyter.widget-view+json": {
       "model_id": "3de9e06f3a804f9aa2da15f1e1c41508",
       "version_major": 2,
       "version_minor": 0
      },
      "text/plain": [
       "  0%|          | 0/1 [00:00<?, ?it/s]"
      ]
     },
     "metadata": {},
     "output_type": "display_data"
    },
    {
     "name": "stdout",
     "output_type": "stream",
     "text": [
      "finished\n"
     ]
    }
   ],
   "source": [
    "# Initialize the model, loss function, and optimizer\n",
    "\n",
    "num_epochs = 2\n",
    "loading_steps = 10\n",
    "loading_count = 0\n",
    "\n",
    "learning_rate = 0.001\n",
    "\n",
    "input_size = X_train.shape[1]\n",
    "\n",
    "model = LinearRegressionModel(input_size)\n",
    "model.to(device)\n",
    "\n",
    "criterion = nn.BCELoss()\n",
    "optimizer = optim.Adam(model.parameters(), lr=learning_rate)\n",
    "\n",
    "X_train_tensor = torch.FloatTensor(X_train).to(device)\n",
    "y_train_tensor = torch.FloatTensor(y_train).to(device).view(-1, 1)\n",
    "\n",
    "train_dataset = TensorDataset(X_train_tensor, y_train_tensor)\n",
    "\n",
    "train_loader = DataLoader(train_dataset, batch_size=len(X_train_tensor) // 1, shuffle=True)\n",
    "\n",
    "losses = []\n",
    "\n",
    "\n",
    "model.train()\n",
    "\n",
    "for epoch in tqdm(range(num_epochs)):\n",
    "\n",
    "    for inputs, labels in tqdm(train_loader):\n",
    "        optimizer.zero_grad()\n",
    "\n",
    "        outputs = model(inputs)\n",
    "        loss = criterion(outputs, labels)\n",
    "        losses.append(loss.item())\n",
    "\n",
    "        loss.backward()\n",
    "\n",
    "        # https://stackoverflow.com/questions/66648432/pytorch-test-loss-becoming-nan-after-some-iteration\n",
    "        #torch.nn.utils.clip_grad_norm_(model.parameters(), 5)\n",
    "\n",
    "        optimizer.step()\n",
    "\n",
    "    if epoch % (num_epochs / loading_steps) == 0:\n",
    "        print(f'{loading_count}0% done')\n",
    "        print(f'Loss: {loss}')\n",
    "        loading_count = loading_count + 1\n",
    "\n",
    "print('finished')\n"
   ]
  },
  {
   "cell_type": "code",
   "execution_count": 7,
   "metadata": {},
   "outputs": [
    {
     "data": {
      "application/vnd.jupyter.widget-view+json": {
       "model_id": "fcb168947f6842558f18249117762f97",
       "version_major": 2,
       "version_minor": 0
      },
      "text/plain": [
       "  0%|          | 0/5 [00:00<?, ?it/s]"
      ]
     },
     "metadata": {},
     "output_type": "display_data"
    },
    {
     "data": {
      "application/vnd.jupyter.widget-view+json": {
       "model_id": "97e7387e0df1454a9b6a687a86e43653",
       "version_major": 2,
       "version_minor": 0
      },
      "text/plain": [
       "  0%|          | 0/1 [00:00<?, ?it/s]"
      ]
     },
     "metadata": {},
     "output_type": "display_data"
    },
    {
     "name": "stdout",
     "output_type": "stream",
     "text": [
      "10% done\n",
      "Loss: 43.18246078491211\n"
     ]
    },
    {
     "data": {
      "application/vnd.jupyter.widget-view+json": {
       "model_id": "e3e0b5de2ab2454fa6786415918e5220",
       "version_major": 2,
       "version_minor": 0
      },
      "text/plain": [
       "  0%|          | 0/1 [00:00<?, ?it/s]"
      ]
     },
     "metadata": {},
     "output_type": "display_data"
    },
    {
     "name": "stdout",
     "output_type": "stream",
     "text": [
      "20% done\n",
      "Loss: 43.18246078491211\n"
     ]
    },
    {
     "data": {
      "application/vnd.jupyter.widget-view+json": {
       "model_id": "ef77c8542080480da0fbd0f7c6c646cc",
       "version_major": 2,
       "version_minor": 0
      },
      "text/plain": [
       "  0%|          | 0/1 [00:00<?, ?it/s]"
      ]
     },
     "metadata": {},
     "output_type": "display_data"
    },
    {
     "name": "stdout",
     "output_type": "stream",
     "text": [
      "30% done\n",
      "Loss: 43.18246078491211\n"
     ]
    },
    {
     "data": {
      "application/vnd.jupyter.widget-view+json": {
       "model_id": "39405b4429bc4261be833e3ce2b22367",
       "version_major": 2,
       "version_minor": 0
      },
      "text/plain": [
       "  0%|          | 0/1 [00:00<?, ?it/s]"
      ]
     },
     "metadata": {},
     "output_type": "display_data"
    },
    {
     "name": "stdout",
     "output_type": "stream",
     "text": [
      "40% done\n",
      "Loss: 43.18246078491211\n"
     ]
    },
    {
     "data": {
      "application/vnd.jupyter.widget-view+json": {
       "model_id": "01427d80712f42bb81389c9ee346eabc",
       "version_major": 2,
       "version_minor": 0
      },
      "text/plain": [
       "  0%|          | 0/1 [00:00<?, ?it/s]"
      ]
     },
     "metadata": {},
     "output_type": "display_data"
    },
    {
     "name": "stdout",
     "output_type": "stream",
     "text": [
      "50% done\n",
      "Loss: 43.18246078491211\n",
      "finished\n"
     ]
    }
   ],
   "source": [
    "model.train()\n",
    "for epoch in tqdm(range(5)):\n",
    "\n",
    "    for inputs, labels in tqdm(train_loader):\n",
    "        optimizer.zero_grad()\n",
    "\n",
    "        outputs = model(inputs)\n",
    "        loss = criterion(outputs, labels)\n",
    "        losses.append(loss.item())\n",
    "\n",
    "        loss.backward()\n",
    "\n",
    "        # https://stackoverflow.com/questions/66648432/pytorch-test-loss-becoming-nan-after-some-iteration\n",
    "        #torch.nn.utils.clip_grad_norm_(model.parameters(), 5)\n",
    "\n",
    "        optimizer.step()\n",
    "\n",
    "    \n",
    "    print(f'{loading_count}0% done')\n",
    "    print(f'Loss: {loss}')\n",
    "    loading_count = loading_count + 1\n",
    "\n",
    "print('finished')"
   ]
  },
  {
   "cell_type": "code",
   "execution_count": 8,
   "metadata": {},
   "outputs": [
    {
     "name": "stdout",
     "output_type": "stream",
     "text": [
      "Mean Squared Error: 0.20559744602154661\n"
     ]
    },
    {
     "data": {
      "image/png": "[encoded data removed]",
      "text/plain": [
       "<Figure size 640x480 with 1 Axes>"
      ]
     },
     "metadata": {},
     "output_type": "display_data"
    },
    {
     "data": {
      "image/png": "[encoded data removed]",
      "text/plain": [
       "<Figure size 640x480 with 1 Axes>"
      ]
     },
     "metadata": {},
     "output_type": "display_data"
    }
   ],
   "source": [
    "model.eval()\n",
    "\n",
    "\n",
    "with torch.no_grad():\n",
    "    X_test_tensor = torch.FloatTensor(X_test).to(device)\n",
    "    y_pred = model(X_test_tensor).detach().numpy()\n",
    "\n",
    "    # Calculate the mean squared error to evaluate the model\n",
    "    mse = ((y_test - y_pred) ** 2).mean()\n",
    "    print(f\"Mean Squared Error: {mse}\")\n",
    "\n",
    "    # plt.hist(y_pred, bins=100)\n",
    "    # plt.show()\n",
    "\n",
    "    # plt.hist(y_test, bins=100)\n",
    "    # plt.show()\n",
    "\n",
    "\n",
    "    plt.scatter(y_test, y_pred, s=1)\n",
    "\n",
    "    plt.axline([0, 0], [1, 1], color='green')\n",
    "\n",
    "    m, b = np.polyfit(y_test, y_pred, 1)\n",
    "    plt.plot(y_test, m * y_test + b, color='red')\n",
    "    plt.xlim(0, 1)\n",
    "    plt.ylim(0, 1)\n",
    "    plt.show()\n",
    "\n",
    "    plt.plot(losses)\n",
    "    plt.yscale('log')\n",
    "    #plt.ylim(0, 0.01)\n",
    "    plt.show()\n",
    "\n",
    "\n",
    "\n",
    "\n",
    "\n",
    "# coeff_list = []\n",
    "# name_list = []\n",
    "# # View the coefficients\n",
    "# with torch.no_grad():\n",
    "#     coefficients = model.linear.weight.view(-1).numpy()\n",
    "\n",
    "#     for i, coef in enumerate(coefficients):\n",
    "#         coeff_list.append(coef)\n",
    "#         name_list.append(X.columns[i])\n",
    "\n",
    "# coef_df = pd.DataFrame(data={'names': name_list, 'coefficients': coeff_list}).sort_values('coefficients', ascending=False)\n",
    "\n",
    "# coef_df"
   ]
  },
  {
   "cell_type": "code",
   "execution_count": null,
   "metadata": {},
   "outputs": [],
   "source": []
  }
 ],
 "metadata": {
  "kernelspec": {
   "display_name": "Python 3",
   "language": "python",
   "name": "python3"
  },
  "language_info": {
   "codemirror_mode": {
    "name": "ipython",
    "version": 3
   },
   "file_extension": ".py",
   "mimetype": "text/x-python",
   "name": "python",
   "nbconvert_exporter": "python",
   "pygments_lexer": "ipython3",
   "version": "3.11.6"
  }
 },
 "nbformat": 4,
 "nbformat_minor": 2
}
