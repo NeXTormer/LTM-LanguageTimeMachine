{
 "cells": [
  {
   "cell_type": "code",
   "execution_count": null,
   "metadata": {
    "execution": {
     "iopub.execute_input": "2023-11-08T08:20:01.752894Z",
     "iopub.status.busy": "2023-11-08T08:20:01.752469Z",
     "iopub.status.idle": "2023-11-08T08:20:01.759510Z",
     "shell.execute_reply": "2023-11-08T08:20:01.758067Z",
     "shell.execute_reply.started": "2023-11-08T08:20:01.752865Z"
    },
    "trusted": true
   },
   "outputs": [],
   "source": [
    "#imports\n",
    "\n",
    "import pandas as pd\n",
    "import torch\n",
    "from simpletransformers.classification import ClassificationModel, ClassificationArgs\n",
    "from sklearn.model_selection import train_test_split\n",
    "from numpy import interp\n",
    "import matplotlib.pyplot as plt\n",
    "import logging"
   ]
  },
  {
   "cell_type": "code",
   "execution_count": null,
   "metadata": {},
   "outputs": [],
   "source": [
    "df = pd.read_json('gutenberg-dataset-v2.json')"
   ]
  },
  {
   "cell_type": "code",
   "execution_count": null,
   "metadata": {},
   "outputs": [],
   "source": [
    "#df = df[df['text'].apply(lambda text: len(text) > 1024)]\n",
    "df['text'] = df['text'].apply(lambda text: ' '.join(text.split()[:512]))\n",
    "earliest_date = df['date'].min()\n",
    "latest_date = df['date'].max()\n",
    "\n",
    "df['labels'] = df['date'].apply(lambda date: interp(date, [earliest_date, latest_date], [0, 1]))\n",
    "\n",
    "# Split data into train and dev subsets\n",
    "df_small = df.sample(1000, random_state=42)\n",
    "df_train, df_test = train_test_split(df_small, test_size=0.2, random_state=42, shuffle=True)\n",
    "df_train"
   ]
  },
  {
   "cell_type": "code",
   "execution_count": null,
   "metadata": {},
   "outputs": [],
   "source": [
    "# Train and Evaluation data needs to be in a Pandas Dataframe containing at least two columns.\n",
    "# If the Dataframe has a header, it should contain a 'text' and a 'labels' column.\n",
    "# If no header is present, the Dataframe should contain at least two columns,\n",
    "# with the first column is the text with type str, and the second column in the label with type int.\n",
    "\n",
    "logging.basicConfig(level=logging.INFO)\n",
    "transformers_logger = logging.getLogger('transformers')\n",
    "transformers_logger.setLevel(logging.WARNING)\n",
    "\n",
    "cuda_available = torch.cuda.is_available()\n",
    "model_args = ClassificationArgs()\n",
    "model_args.reprocess_input_data = True\n",
    "model_args.overwrite_output_dir = True\n",
    "model_args.regression = True\n",
    "model_args.num_train_epochs = 4\n",
    "#model_args.learning_rate = 1e-4\n",
    "\n",
    "# Create a ClassificationModel\n",
    "model = ClassificationModel(\n",
    "    'roberta',\n",
    "    'roberta-base',\n",
    "    num_labels=1,\n",
    "    args=model_args,\n",
    "    use_cuda=cuda_available,\n",
    ")\n",
    "\n",
    "# Train the model\n",
    "model.train_model(df_train)\n",
    "\n",
    "# Evaluate the model\n",
    "result, model_outputs, wrong_predictions = model.eval_model(df_test)"
   ]
  },
  {
   "cell_type": "code",
   "execution_count": null,
   "metadata": {},
   "outputs": [],
   "source": [
    "def get_date_from_prediction(prediction):\n",
    "    return int(interp(prediction, [0, 1], [earliest_date, latest_date]))"
   ]
  },
  {
   "cell_type": "code",
   "execution_count": null,
   "metadata": {},
   "outputs": [],
   "source": [
    "print(result)\n",
    "\n",
    "predictions, raw_outputs = model.predict(df_test['text'].tolist())\n",
    "prediction_dates = [get_date_from_prediction(pred) for pred in predictions]\n",
    "\n",
    "for i in range(len(df_test)):\n",
    "    print(f\"Title: {df_test.iloc[i]['title']}, Date: {df_test.iloc[i]['date']}, Predicted Date: {prediction_dates[i]}\")\n",
    "\n",
    "plt.figure(figsize=(10, 6))\n",
    "plt.scatter(df_test['date'].tolist(), prediction_dates, color='blue', alpha=0.5)\n",
    "plt.title('Real vs Predicted Publish Dates')\n",
    "plt.xlabel('Real Publish Date')\n",
    "plt.ylabel('Predicted Date')\n",
    "plt.grid(True)\n",
    "plt.show()"
   ]
  }
 ],
 "metadata": {
  "kernelspec": {
   "display_name": "Python 3",
   "language": "python",
   "name": "python3"
  },
  "language_info": {
   "codemirror_mode": {
    "name": "ipython",
    "version": 3
   },
   "file_extension": ".py",
   "mimetype": "text/x-python",
   "name": "python",
   "nbconvert_exporter": "python",
   "pygments_lexer": "ipython3",
   "version": "3.11.6"
  }
 },
 "nbformat": 4,
 "nbformat_minor": 4
}
