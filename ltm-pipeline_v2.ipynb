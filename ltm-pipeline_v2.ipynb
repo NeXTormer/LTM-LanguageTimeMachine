{
 "cells": [
  {
   "cell_type": "markdown",
   "metadata": {},
   "source": [
    "# Pipeline to retrieve books from predicted date of a query text reranked by similarity"
   ]
  },
  {
   "cell_type": "code",
   "execution_count": 86,
   "metadata": {},
   "outputs": [],
   "source": [
    "#imports\n",
    "\n",
    "import pandas as pd\n",
    "pd.options.mode.chained_assignment = None \n",
    "import torch\n",
    "import seaborn as sns\n",
    "import numpy as np\n",
    "from simpletransformers.classification import ClassificationModel, ClassificationArgs\n",
    "from sklearn.metrics import mean_squared_error, r2_score\n",
    "from sklearn.model_selection import train_test_split\n",
    "import matplotlib.pyplot as plt\n",
    "from nltk.tokenize import word_tokenize\n",
    "from nltk.corpus import stopwords\n",
    "from nltk.stem import PorterStemmer\n",
    "import gensim\n",
    "from gensim.models.doc2vec import TaggedDocument"
   ]
  },
  {
   "cell_type": "markdown",
   "metadata": {},
   "source": [
    "#### Read the dataset from our preprocessed json file"
   ]
  },
  {
   "cell_type": "code",
   "execution_count": 3,
   "metadata": {},
   "outputs": [],
   "source": [
    "df = pd.read_json('gutenberg-dataset-v2.json')"
   ]
  },
  {
   "cell_type": "markdown",
   "metadata": {},
   "source": [
    "#### Selecting our samples from the dataset and split it into train and test subsets"
   ]
  },
  {
   "cell_type": "code",
   "execution_count": 4,
   "metadata": {},
   "outputs": [
    {
     "data": {
      "text/html": [
       "<div>\n",
       "<style scoped>\n",
       "    .dataframe tbody tr th:only-of-type {\n",
       "        vertical-align: middle;\n",
       "    }\n",
       "\n",
       "    .dataframe tbody tr th {\n",
       "        vertical-align: top;\n",
       "    }\n",
       "\n",
       "    .dataframe thead th {\n",
       "        text-align: right;\n",
       "    }\n",
       "</style>\n",
       "<table border=\"1\" class=\"dataframe\">\n",
       "  <thead>\n",
       "    <tr style=\"text-align: right;\">\n",
       "      <th></th>\n",
       "      <th>title</th>\n",
       "      <th>author</th>\n",
       "      <th>date</th>\n",
       "      <th>text_ratio</th>\n",
       "      <th>text</th>\n",
       "      <th>text_len_characters</th>\n",
       "      <th>weights</th>\n",
       "      <th>labels</th>\n",
       "    </tr>\n",
       "  </thead>\n",
       "  <tbody>\n",
       "    <tr>\n",
       "      <th>18261</th>\n",
       "      <td>The Piazza Tales</td>\n",
       "      <td>Herman Melville</td>\n",
       "      <td>1856</td>\n",
       "      <td>0.962312</td>\n",
       "      <td>huskily continued don benito painfully turning...</td>\n",
       "      <td>11497</td>\n",
       "      <td>0.025641</td>\n",
       "      <td>-0.28</td>\n",
       "    </tr>\n",
       "    <tr>\n",
       "      <th>38208</th>\n",
       "      <td>The Spell of Egypt</td>\n",
       "      <td>Robert Hichens</td>\n",
       "      <td>1911</td>\n",
       "      <td>0.970044</td>\n",
       "      <td>in the statue she is presented to us as a lime...</td>\n",
       "      <td>10691</td>\n",
       "      <td>0.071429</td>\n",
       "      <td>0.82</td>\n",
       "    </tr>\n",
       "    <tr>\n",
       "      <th>148107</th>\n",
       "      <td>Asbeïn: From the Life of a Virtuoso</td>\n",
       "      <td>Ossip Schubin</td>\n",
       "      <td>1890</td>\n",
       "      <td>0.960506</td>\n",
       "      <td>an upper story the maid goes happy to be relea...</td>\n",
       "      <td>11165</td>\n",
       "      <td>0.045455</td>\n",
       "      <td>0.40</td>\n",
       "    </tr>\n",
       "    <tr>\n",
       "      <th>33405</th>\n",
       "      <td>Sir Thomas More, or, Colloquies on the Progres...</td>\n",
       "      <td>Robert Southey</td>\n",
       "      <td>1824</td>\n",
       "      <td>0.974706</td>\n",
       "      <td>colloquy ivfeudal slaverygrowth of pauperism t...</td>\n",
       "      <td>11266</td>\n",
       "      <td>0.076923</td>\n",
       "      <td>-0.92</td>\n",
       "    </tr>\n",
       "    <tr>\n",
       "      <th>161091</th>\n",
       "      <td>Recollections of the Civil War / With the Lead...</td>\n",
       "      <td>Charles A. Dana</td>\n",
       "      <td>1863</td>\n",
       "      <td>0.968440</td>\n",
       "      <td>drawn the enemys attention to that quarter she...</td>\n",
       "      <td>10991</td>\n",
       "      <td>0.027027</td>\n",
       "      <td>-0.14</td>\n",
       "    </tr>\n",
       "    <tr>\n",
       "      <th>58607</th>\n",
       "      <td>The Ridin' Kid from Powder River</td>\n",
       "      <td>Henry Herbert Knibbs</td>\n",
       "      <td>1919</td>\n",
       "      <td>0.953091</td>\n",
       "      <td>that if the posse could see to shoot with such...</td>\n",
       "      <td>10520</td>\n",
       "      <td>0.018519</td>\n",
       "      <td>0.98</td>\n",
       "    </tr>\n",
       "    <tr>\n",
       "      <th>211406</th>\n",
       "      <td>La Ronge Journal, 1823</td>\n",
       "      <td>George Nelson</td>\n",
       "      <td>1823</td>\n",
       "      <td>0.956444</td>\n",
       "      <td>have mentioned first because as you may see i ...</td>\n",
       "      <td>10466</td>\n",
       "      <td>0.035714</td>\n",
       "      <td>-0.94</td>\n",
       "    </tr>\n",
       "    <tr>\n",
       "      <th>281414</th>\n",
       "      <td>Sketches in Holland and Scandinavia</td>\n",
       "      <td>Augustus J. C. Hare</td>\n",
       "      <td>1885</td>\n",
       "      <td>0.964674</td>\n",
       "      <td>sculptures and many most grand originals espec...</td>\n",
       "      <td>11528</td>\n",
       "      <td>0.076923</td>\n",
       "      <td>0.30</td>\n",
       "    </tr>\n",
       "    <tr>\n",
       "      <th>170847</th>\n",
       "      <td>Rossa's Recollections, 1838 to 1898 / Childhoo...</td>\n",
       "      <td>Jeremiah O'Donovan Rossa</td>\n",
       "      <td>1838</td>\n",
       "      <td>0.963252</td>\n",
       "      <td>cut so deep a chasm he fell and bit the bloody...</td>\n",
       "      <td>10519</td>\n",
       "      <td>0.020833</td>\n",
       "      <td>-0.64</td>\n",
       "    </tr>\n",
       "    <tr>\n",
       "      <th>56695</th>\n",
       "      <td>The Papers and Writings of Abraham Lincoln — V...</td>\n",
       "      <td>Abraham Lincoln</td>\n",
       "      <td>1862</td>\n",
       "      <td>0.957157</td>\n",
       "      <td>divide his force sending part against each of ...</td>\n",
       "      <td>10920</td>\n",
       "      <td>0.020833</td>\n",
       "      <td>-0.16</td>\n",
       "    </tr>\n",
       "  </tbody>\n",
       "</table>\n",
       "</div>"
      ],
      "text/plain": [
       "                                                    title  \\\n",
       "18261                                    The Piazza Tales   \n",
       "38208                                  The Spell of Egypt   \n",
       "148107                Asbeïn: From the Life of a Virtuoso   \n",
       "33405   Sir Thomas More, or, Colloquies on the Progres...   \n",
       "161091  Recollections of the Civil War / With the Lead...   \n",
       "58607                    The Ridin' Kid from Powder River   \n",
       "211406                             La Ronge Journal, 1823   \n",
       "281414                Sketches in Holland and Scandinavia   \n",
       "170847  Rossa's Recollections, 1838 to 1898 / Childhoo...   \n",
       "56695   The Papers and Writings of Abraham Lincoln — V...   \n",
       "\n",
       "                          author  date  text_ratio  \\\n",
       "18261            Herman Melville  1856    0.962312   \n",
       "38208             Robert Hichens  1911    0.970044   \n",
       "148107             Ossip Schubin  1890    0.960506   \n",
       "33405             Robert Southey  1824    0.974706   \n",
       "161091           Charles A. Dana  1863    0.968440   \n",
       "58607       Henry Herbert Knibbs  1919    0.953091   \n",
       "211406             George Nelson  1823    0.956444   \n",
       "281414       Augustus J. C. Hare  1885    0.964674   \n",
       "170847  Jeremiah O'Donovan Rossa  1838    0.963252   \n",
       "56695            Abraham Lincoln  1862    0.957157   \n",
       "\n",
       "                                                     text  \\\n",
       "18261   huskily continued don benito painfully turning...   \n",
       "38208   in the statue she is presented to us as a lime...   \n",
       "148107  an upper story the maid goes happy to be relea...   \n",
       "33405   colloquy ivfeudal slaverygrowth of pauperism t...   \n",
       "161091  drawn the enemys attention to that quarter she...   \n",
       "58607   that if the posse could see to shoot with such...   \n",
       "211406  have mentioned first because as you may see i ...   \n",
       "281414  sculptures and many most grand originals espec...   \n",
       "170847  cut so deep a chasm he fell and bit the bloody...   \n",
       "56695   divide his force sending part against each of ...   \n",
       "\n",
       "        text_len_characters   weights  labels  \n",
       "18261                 11497  0.025641   -0.28  \n",
       "38208                 10691  0.071429    0.82  \n",
       "148107                11165  0.045455    0.40  \n",
       "33405                 11266  0.076923   -0.92  \n",
       "161091                10991  0.027027   -0.14  \n",
       "58607                 10520  0.018519    0.98  \n",
       "211406                10466  0.035714   -0.94  \n",
       "281414                11528  0.076923    0.30  \n",
       "170847                10519  0.020833   -0.64  \n",
       "56695                 10920  0.020833   -0.16  "
      ]
     },
     "execution_count": 4,
     "metadata": {},
     "output_type": "execute_result"
    }
   ],
   "source": [
    "df = df[df['date'] >= 1820]\n",
    "df = df[df['date'] <= 1920]\n",
    "\n",
    "earliest_date = df['date'].min()\n",
    "latest_date = df['date'].max()\n",
    "\n",
    "samples_list = []\n",
    "for year in range(earliest_date, latest_date + 1):\n",
    "    df_year = df[df['date'] == year]\n",
    "    if len(df_year) > 100:\n",
    "        samples = df_year.sample(100, random_state=42)\n",
    "        samples_list.append(samples)\n",
    "    else:\n",
    "        samples_list.append(df_year)\n",
    "\n",
    "df_samples = pd.concat(samples_list)\n",
    "df_samples['labels'] = df_samples['date'].apply(lambda date: np.interp(date, [earliest_date, latest_date], [-1, 1]))\n",
    "\n",
    "# Split data into train and test subsets\n",
    "df_train, df_test = train_test_split(df_samples, test_size=0.2, random_state=42, shuffle=True)\n",
    "df_test = df_test.head(10)\n",
    "df_test"
   ]
  },
  {
   "cell_type": "markdown",
   "metadata": {},
   "source": [
    "#### Setup and load the pretrained classification model"
   ]
  },
  {
   "cell_type": "code",
   "execution_count": 5,
   "metadata": {},
   "outputs": [],
   "source": [
    "cuda_available = torch.cuda.is_available()\n",
    "model_args = ClassificationArgs()\n",
    "model_args.reprocess_input_data = True\n",
    "model_args.overwrite_output_dir = True\n",
    "model_args.regression = True\n",
    "\n",
    "# Create a ClassificationModel\n",
    "bert_model = ClassificationModel(\n",
    "    'bert',\n",
    "    'bert-transformer/bert-base-historic-english-cased/outputs', # Load our own pre-trained model\n",
    "    num_labels=1,\n",
    "    args=model_args,\n",
    "    use_cuda=cuda_available\n",
    ")"
   ]
  },
  {
   "cell_type": "markdown",
   "metadata": {},
   "source": [
    "#### Set up and train the Doc2Vec model for the re-ranking"
   ]
  },
  {
   "cell_type": "code",
   "execution_count": 69,
   "metadata": {},
   "outputs": [],
   "source": [
    "def train_and_vectorize_docs(train_df, vector_size=40, min_count=4, epochs=30):\n",
    "    \"\"\"\n",
    "    Train a Doc2Vec model on a given DataFrame containing textual data and date information.\n",
    "\n",
    "    Parameters:\n",
    "    - train_df (pandas.DataFrame): Input DataFrame with 'text' and 'date' columns.\n",
    "    - vector_size (int): Dimensionality of the document vectors in the Doc2Vec model.\n",
    "    - min_count (int): Ignores all words with a total frequency lower than this.\n",
    "    - epochs (int): Number of iterations over the entire dataset during training.\n",
    "\n",
    "    Returns:\n",
    "    - pandas.DataFrame: DataFrame containing vectors, original text, date ranges, and other information.\n",
    "    \"\"\"\n",
    "\n",
    "    # Tokenization of each snippet\n",
    "    train_df['tokenized_text'] = train_df['text'].apply(word_tokenize)\n",
    "\n",
    "    new_df = train_df.groupby('title')['tokenized_text'].agg(lambda x: sum(x, [])).reset_index()# Grouping books else we have multile instaces of same book in our rerank\n",
    "    #new_df = train_df\n",
    "    # Preptaring the data for the\n",
    "    train_corpus = []\n",
    "    # Doc2Vec model\n",
    "    for i, words in enumerate(new_df['tokenized_text']):\n",
    "        tagged_doc = TaggedDocument(words=words, tags=[str(i)])\n",
    "        train_corpus.append(tagged_doc)\n",
    "\n",
    "    # Train the Doc2Vec model\n",
    "    model = gensim.models.Doc2Vec(vector_size=vector_size, min_count=min_count, epochs=epochs)\n",
    "    model.build_vocab(train_corpus)\n",
    "    model.train(train_corpus, total_examples=model.corpus_count, epochs=model.epochs)\n",
    "\n",
    "    # Infer Vectors and save in column (maybe usfull if we want to use them for further processing)\n",
    "    vectors = [model.infer_vector(words) for words in new_df['tokenized_text']]\n",
    "    new_df['vectors'] = vectors\n",
    "\n",
    "    return new_df, model\n",
    "\n",
    "def get_most_similar_books(query, model, top_results = 10):\n",
    "    df_query = pd.DataFrame({'text': [query]})\n",
    "    df_query['tokenized_text'] = df_query['text'].apply(word_tokenize)\n",
    "    \n",
    "    vector = model.infer_vector(df_query['tokenized_text'].iloc[0])\n",
    "    \n",
    "    similar_docs = model.dv.most_similar(vector, topn=top_results)\n",
    "    return similar_docs"
   ]
  },
  {
   "cell_type": "markdown",
   "metadata": {},
   "source": [
    "#### Helper methods"
   ]
  },
  {
   "cell_type": "code",
   "execution_count": 70,
   "metadata": {},
   "outputs": [],
   "source": [
    "def get_date_from_prediction(prediction):\n",
    "    return int(np.interp(prediction, [-1, 1], [earliest_date, latest_date]))"
   ]
  },
  {
   "cell_type": "markdown",
   "metadata": {},
   "source": [
    "#### Create predictions and retrieve book of the predicted year, then re-rank them by similarity to the query"
   ]
  },
  {
   "cell_type": "code",
   "execution_count": null,
   "metadata": {},
   "outputs": [
    {
     "data": {
      "application/vnd.jupyter.widget-view+json": {
       "model_id": "67a0763cd6a048e6815d511662af2369",
       "version_major": 2,
       "version_minor": 0
      },
      "text/plain": [
       "  0%|          | 0/10 [00:00<?, ?it/s]"
      ]
     },
     "metadata": {},
     "output_type": "display_data"
    },
    {
     "data": {
      "application/vnd.jupyter.widget-view+json": {
       "model_id": "4b0c308f874945419c2d77ea40ebb3b5",
       "version_major": 2,
       "version_minor": 0
      },
      "text/plain": [
       "  0%|          | 0/2 [00:00<?, ?it/s]"
      ]
     },
     "metadata": {},
     "output_type": "display_data"
    },
    {
     "name": "stdout",
     "output_type": "stream",
     "text": [
      "Most similar to The Piazza Tales :\n",
      "Similarity 0.584 |   Title:  The Atlantic Monthly, Volume 11, No. 68, June, 1863 / A Magazine of Literature, Art, and Politics\n",
      "Similarity 0.55 |   Title:  The Continental Monthly, Vol. III, No. V,  May, 1863 / Devoted to Literature and National Policy\n",
      "Similarity 0.538 |   Title:  Canterbury Pieces\n",
      "Similarity 0.489 |   Title:  The Little London Directory of 1677 / The oldest printed list of the merchants and bankers of London\n",
      "Similarity 0.445 |   Title:  The Atlantic Monthly, Volume 12, No. 70, August, 1863 / A Magazine of Literature, Art, and Politics\n",
      "Similarity 0.442 |   Title:  Handbook to the Severn Valley Railway / Illustrative and Descriptive of Places along the Line from Worcester to Shrewsbury\n",
      "Similarity 0.441 |   Title:  John Marchmont's Legacy, Volumes 1-3\n",
      "Similarity 0.433 |   Title:  Three Months in the Southern States, April-June 1863\n",
      "Similarity 0.425 |   Title:  Evidence as to Man's Place in Nature\n",
      "Similarity 0.406 |   Title:  War Experiences and the Story of the Vicksburg Campaign from \"Milliken's Bend\" to July 4, 1863 / being an accurate and graphic account of campaign events taken from the diary of Capt. J.J. Kellogg, of Co. B 113th Illinois volunteer infantry\n",
      "Most similar to The Spell of Egypt :\n",
      "Similarity 0.626 |   Title:  The Prince and the Page: A Story of the Last Crusade\n",
      "Similarity 0.584 |   Title:  Secret Service / Being the Happenings of a Night in Richmond in the Spring of 1865\n",
      "Similarity 0.522 |   Title:  Sermons of the Rev. Francis A. Baker, Priest of the Congregation of St. Paul / With a Memoir of His Life\n",
      "Similarity 0.51 |   Title:  A Year at the Shore\n",
      "Similarity 0.501 |   Title:  Irish Ecclesiastical Record, Volume 1, May 1865\n",
      "Similarity 0.451 |   Title:  Fairy Realm: A Collection of the Favourite Old Tales Told in Verse\n",
      "Similarity 0.427 |   Title:  Religion and the War\n",
      "Similarity 0.425 |   Title:  Henrik Ibsen\n",
      "Similarity 0.424 |   Title:  The Irish Ecclesiastical Record, Volume 1, July 1865\n",
      "Similarity 0.412 |   Title:  Animaduersions uppon the annotacions and corrections of some imperfections of impressiones of Chaucer's workes / 1865 edition\n",
      "Most similar to Asbeïn: From the Life of a Virtuoso :\n",
      "Similarity 0.705 |   Title:  Simon Eichelkatz; The Patriarch. Two Stories of Jewish Life\n",
      "Similarity 0.685 |   Title:  The City of Pleasure: A Fantasia on Modern Themes\n",
      "Similarity 0.656 |   Title:  The House of the Vampire\n",
      "Similarity 0.642 |   Title:  Fräulein Schmidt and Mr. Anstruther\n",
      "Similarity 0.631 |   Title:  The Sundered Streams: The History of a Memory That Had No Full Stops\n",
      "Similarity 0.617 |   Title:  The Halo\n",
      "Similarity 0.614 |   Title:  The Ghost: A Modern Fantasy\n",
      "Similarity 0.606 |   Title:  Devota\n",
      "Similarity 0.562 |   Title:  Queens of the Renaissance\n",
      "Similarity 0.553 |   Title:  Tales of two people\n",
      "Most similar to Sir Thomas More, or, Colloquies on the Progress and Prospects of Society :\n",
      "Similarity 0.657 |   Title:  The Narrative of Lunsford Lane, Formerly of Raleigh, N.C. / Embracing an account of his early life, the redemption by purchase of himself and family from slavery, and his banishment from the place of his birth for the crime of wearing a colored skin\n",
      "Similarity 0.649 |   Title:  The True Ministers of Christ Accredited by the Holy Spirit: A Sermon\n",
      "Similarity 0.587 |   Title:  The Foundations of the Origin of Species / Two Essays written in 1842 and 1844\n",
      "Similarity 0.517 |   Title:  How to Enjoy Paris in 1842 / Intended to Serve as a Companion and Monitor, Containing / Historical, Political, Commercial, Artistical, Theatrical / And Statistical Information\n",
      "Similarity 0.413 |   Title:  Graham's Magazine, Vol. XXI, No. 6, December 1842\n",
      "Similarity 0.388 |   Title:  Graham's Magazine, Vol. XXI, No. 4, October 1842\n",
      "Similarity 0.388 |   Title:  Graham's Magazine, Vol. XXI, No. 1, July 1842\n",
      "Similarity 0.367 |   Title:  Graham's Magazine, Vol. XX, No. 4, April 1842\n",
      "Similarity 0.358 |   Title:  Graham's Magazine, Vol. XXI, No. 3, September 1842\n",
      "Similarity 0.317 |   Title:  Graham's Magazine, Vol. XXI, No. 2, August 1842\n",
      "Most similar to Recollections of the Civil War / With the Leaders at Washington and in the Field in the Sixties :\n",
      "Similarity 0.532 |   Title:  Collins' Illustrated Guide to London and Neighbourhood / Being a Concise Description of the Chief Places of Interest in the Metropolis, and the Best Modes of Obtaining Access to Them: with Information Relating to Railways, Omnibuses, Steamers, &c.\n",
      "Similarity 0.442 |   Title:  The Pearl of the Antilles, or An Artist in Cuba\n",
      "Similarity 0.434 |   Title:  On the Church Steps\n",
      "Similarity 0.434 |   Title:  Facts About Champagne and Other Sparkling Wines\n",
      "Similarity 0.422 |   Title:  Old Bear-Paw, the trapper king; or, The love of a Blackfoot queen\n",
      "Similarity 0.407 |   Title:  Wages in 1873: Address read before the Social Science Association at Norwich\n",
      "Similarity 0.384 |   Title:  Hindoo Tales; Or, the Adventures of Ten Princes\n",
      "Similarity 0.378 |   Title:  Lippincott's Magazine of Popular Literature and Science, Volume 11, No. 22, January, 1873\n",
      "Similarity 0.372 |   Title:  Economic Sophisms\n",
      "Similarity 0.368 |   Title:  Cameos from English History, from Rollo to Edward II\n"
     ]
    }
   ],
   "source": [
    "query_texts = df_test['text'].tolist()\n",
    "query_real_dates = df_test['date'].tolist()\n",
    "predictions, raw_outputs = bert_model.predict(query_texts)\n",
    "prediction_dates = [get_date_from_prediction(pred) for pred in predictions]\n",
    "\n",
    "for query, pred_date in zip(query_texts, prediction_dates):\n",
    "    df_books_from_pred_date = df[df['date'] == pred_date]    # Includes ca 1000 Books\n",
    "    \n",
    "    df_trained, doc2vec_model = train_and_vectorize_docs(df_books_from_pred_date)   # Liimit them to 1000 Books\n",
    "    similar_docs = get_most_similar_books(query, doc2vec_model,top_results = 10)\n",
    "    \n",
    "    print(\"Most similar to\",df[df.text==query].title.iloc[-1],\":\")\n",
    "    for idx, doc in enumerate(similar_docs):\n",
    "        print(\"Similarity\",round(doc[1],3),\"|   Title: \", df_trained.iloc[int(doc[0])].title)\n",
    "    "
   ]
  },
  {
   "cell_type": "code",
   "execution_count": 67,
   "metadata": {},
   "outputs": [
    {
     "data": {
      "text/plain": [
       "37"
      ]
     },
     "execution_count": 67,
     "metadata": {},
     "output_type": "execute_result"
    }
   ],
   "source": [
    "len(df_books_from_pred_date.title.unique())"
   ]
  },
  {
   "cell_type": "code",
   "execution_count": 50,
   "metadata": {},
   "outputs": [
    {
     "data": {
      "text/plain": [
       "1863"
      ]
     },
     "execution_count": 50,
     "metadata": {},
     "output_type": "execute_result"
    }
   ],
   "source": [
    "pred_date"
   ]
  },
  {
   "cell_type": "code",
   "execution_count": 93,
   "metadata": {},
   "outputs": [
    {
     "data": {
      "text/plain": [
       "'The Spell of Egypt'"
      ]
     },
     "execution_count": 93,
     "metadata": {},
     "output_type": "execute_result"
    }
   ],
   "source": [
    "df[df.text==query].title.iloc[-1]"
   ]
  },
  {
   "cell_type": "code",
   "execution_count": null,
   "metadata": {},
   "outputs": [],
   "source": []
  }
 ],
 "metadata": {
  "kernelspec": {
   "display_name": "Python 3 (ipykernel)",
   "language": "python",
   "name": "python3"
  },
  "language_info": {
   "codemirror_mode": {
    "name": "ipython",
    "version": 3
   },
   "file_extension": ".py",
   "mimetype": "text/x-python",
   "name": "python",
   "nbconvert_exporter": "python",
   "pygments_lexer": "ipython3",
   "version": "3.10.10"
  }
 },
 "nbformat": 4,
 "nbformat_minor": 4
}
